{
 "cells": [
  {
   "cell_type": "code",
   "execution_count": null,
   "id": "fd88d50b",
   "metadata": {},
   "outputs": [],
   "source": [
    "#Bai1\n",
    "n = input(\"\")\n",
    "print(n*2)"
   ]
  },
  {
   "cell_type": "code",
   "execution_count": null,
   "id": "679f9fcc",
   "metadata": {},
   "outputs": [],
   "source": [
    "#Bai2\n",
    "a,b = map(int,input().split())\n",
    "print(round(((a*b)-(3.14*((b/2)**2))),2))"
   ]
  },
  {
   "cell_type": "code",
   "execution_count": null,
   "id": "c721f3cc",
   "metadata": {},
   "outputs": [
    {
     "name": "stdout",
     "output_type": "stream",
     "text": [
      "a\n",
      "65 90\n"
     ]
    }
   ],
   "source": [
    "#Bai3\n",
    "c = str(input(\"\"))\n",
    "ma = ord(c)\n",
    "if 65<=ma<=90: print(chr(ma+32))\n",
    "if 97<=ma<=122: print(chr(ma-32))"
   ]
  },
  {
   "cell_type": "code",
   "execution_count": null,
   "id": "bb44b3e5",
   "metadata": {},
   "outputs": [],
   "source": [
    "#Bai4\n",
    "c = str(input(\"\"))\n",
    "ma = ord(c)\n",
    "if 65<=ma<=90 or 97<=ma<=122: \n",
    "    print(c,\"la mot chu cai alphabet\")\n",
    "else: print(c,\"khong la mot chu cai alphabet\")"
   ]
  },
  {
   "cell_type": "code",
   "execution_count": null,
   "id": "a25f2d8e",
   "metadata": {},
   "outputs": [],
   "source": [
    "#Bai5\n",
    "c = str(input(\"Nhap n:\"))\n",
    "\n",
    "if c == 'A':\n",
    "    print(\"Wrong input\")\n",
    "else:\n",
    "    c_thuong = c.lower()       \n",
    "    truoc = chr(ord(c_thuong) - 1)   \n",
    "    print(truoc)"
   ]
  },
  {
   "cell_type": "code",
   "execution_count": null,
   "id": "f3af3a2f",
   "metadata": {},
   "outputs": [],
   "source": [
    "#Bai6\n",
    "a,b,c = map(int,input().split())\n",
    "if (a+b)>c and (a+c)>b and (c+b)>a:\n",
    "    p = (a+b+c)/2\n",
    "    print(round((p*(p - a)*(p - b)*(p - c))**(1/2),2))\n",
    "else: print(\"Khong phai tam giac\")"
   ]
  },
  {
   "cell_type": "code",
   "execution_count": null,
   "id": "5535d3d5",
   "metadata": {},
   "outputs": [],
   "source": [
    "#Bai7\n",
    "def tien(a):\n",
    "    if 0<=a<=50: return a*1984\n",
    "    if 51<=a<=100: return a*2050\n",
    "    if 101<=a<=200: return a*2380\n",
    "    if 201<=a<=300: return a*2998\n",
    "    if 301<=a<=400: return a*3350\n",
    "    if 401<=a: return a*3460\n",
    "\n",
    "name = str(input(\"Ten chu ho:\"))\n",
    "before_month = str(input(\"Chi so thang truoc:\"))\n",
    "present_month = str(input(\"Chi so thang nay: \"))\n",
    "print(\"Ho va ten:\",name)\n",
    "print(\"Tien phai tra la:\",round((tien(before_month)-tien(present_month))*1.08))"
   ]
  },
  {
   "cell_type": "code",
   "execution_count": null,
   "id": "3d623d3f",
   "metadata": {},
   "outputs": [],
   "source": [
    "#Bai1\n",
    "a = input(\"\")\n",
    "if a%2==0: print(\"So chan\")\n",
    "else: print(\"so le\")"
   ]
  },
  {
   "cell_type": "code",
   "execution_count": 1,
   "id": "0614d6ab",
   "metadata": {},
   "outputs": [
    {
     "name": "stdout",
     "output_type": "stream",
     "text": [
      "True\n"
     ]
    }
   ],
   "source": [
    "#Bai2\n",
    "a = int(input(\"\"))\n",
    "print(a%10==5)"
   ]
  },
  {
   "cell_type": "code",
   "execution_count": null,
   "id": "0683a72b",
   "metadata": {},
   "outputs": [],
   "source": [
    "#Bai3\n",
    "a = input(\"\")\n",
    "print(a%3 == 0 and a%5==0)"
   ]
  },
  {
   "cell_type": "code",
   "execution_count": null,
   "id": "ce0208b4",
   "metadata": {},
   "outputs": [],
   "source": [
    "#Bai4\n",
    "a = int(input(\"\"))\n",
    "print(a>=18)"
   ]
  },
  {
   "cell_type": "code",
   "execution_count": null,
   "id": "86cd45e2",
   "metadata": {},
   "outputs": [],
   "source": [
    "#Bai5\n",
    "a,b = map(int,input().split())\n",
    "if a == b:\n",
    "    print(\"Hai so bang nhau\")\n",
    "else: print(max(a,b))"
   ]
  },
  {
   "cell_type": "code",
   "execution_count": null,
   "id": "cfec5026",
   "metadata": {},
   "outputs": [],
   "source": [
    "#Bai6\n",
    "a = int(input(\"\"))\n",
    "if type(a) == \"str\":\n",
    "    print(a,\"la chu\")\n",
    "else: print(a,\"la so\")"
   ]
  },
  {
   "cell_type": "code",
   "execution_count": null,
   "id": "ce501ea0",
   "metadata": {},
   "outputs": [],
   "source": [
    "#Bai7\n",
    "a = int(input(\"\"))\n",
    "if a<0 or a>10:\n",
    "    print(\"Wrong input\")\n",
    "else:\n",
    "    if 8 <= a: print(\"Gioi\")\n",
    "    if 6.5 <= a < 8: print(\"Kha\")\n",
    "    if 5 <= a < 6.5: print(\"Trung binh\")\n",
    "    if a < 5: print(\"Yeu\")"
   ]
  },
  {
   "cell_type": "code",
   "execution_count": null,
   "id": "0c31504a",
   "metadata": {},
   "outputs": [],
   "source": [
    "#Bai8\n",
    "a = int(input(\"\"))\n",
    "if a%400 == 0 or (a%100 != 0 and a%4 == 0):\n",
    "    print(\"Nam nhuan\")\n",
    "else: print(\"Nam khong nhuan\")"
   ]
  },
  {
   "cell_type": "code",
   "execution_count": null,
   "id": "e190ae34",
   "metadata": {},
   "outputs": [],
   "source": [
    "#Bai9\n",
    "x = int(input(\"Nhap:\"))\n",
    "if x == 0:\n",
    "    print(\"Khong\")\n",
    "elif x == 1:\n",
    "    print(\"Mot\")\n",
    "elif x == 2:\n",
    "    print(\"Hai\")    \n",
    "elif x == 3:\n",
    "    print(\"Ba\")\n",
    "elif x == 4:\n",
    "    print(\"Bon\")\n",
    "elif x == 5:\n",
    "    print(\"Nam\")\n",
    "elif x == 6:\n",
    "    print(\"Sau\")\n",
    "elif x == 7:\n",
    "    print(\"Bay\")\n",
    "elif x == 8:\n",
    "    print(\"Tam\")\n",
    "elif x == 9:\n",
    "    print(\"Chin\")\n",
    "else:\n",
    "    print(\"Wrong input\")"
   ]
  },
  {
   "cell_type": "code",
   "execution_count": null,
   "id": "ddc4956c",
   "metadata": {},
   "outputs": [],
   "source": [
    "#Bai10\n",
    "x = int(input(\"Nhap:\"))\n",
    "if x>=4:\n",
    "    print(\"Qua mon\")\n",
    "else: print(\"Truot\")"
   ]
  },
  {
   "cell_type": "code",
   "execution_count": null,
   "id": "ad9a7dca",
   "metadata": {},
   "outputs": [
    {
     "name": "stdout",
     "output_type": "stream",
     "text": [
      "True\n"
     ]
    }
   ],
   "source": [
    "#Bai11\n",
    "x = int(input(\"Nhap:\"))\n",
    "print((2025-x) >= 18)"
   ]
  }
 ],
 "metadata": {
  "kernelspec": {
   "display_name": "Python 3",
   "language": "python",
   "name": "python3"
  },
  "language_info": {
   "codemirror_mode": {
    "name": "ipython",
    "version": 3
   },
   "file_extension": ".py",
   "mimetype": "text/x-python",
   "name": "python",
   "nbconvert_exporter": "python",
   "pygments_lexer": "ipython3",
   "version": "3.13.7"
  }
 },
 "nbformat": 4,
 "nbformat_minor": 5
}

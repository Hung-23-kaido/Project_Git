{
 "cells": [
  {
   "cell_type": "code",
   "execution_count": null,
   "id": "3169bbb8",
   "metadata": {},
   "outputs": [],
   "source": [
    "#Bai 1\n",
    "a = float(input(\"Nhap so a: \"))\n",
    "b = float(input(\"Nhap so b: \"))\n",
    "print(\"Chu vi hinh chu nhat la: \", (a+b)*2)\n",
    "print(\"Dien tich hinh chu nhat la: \", a*b)"
   ]
  },
  {
   "cell_type": "code",
   "execution_count": null,
   "id": "238361b6",
   "metadata": {},
   "outputs": [],
   "source": [
    "#Bai 2\n",
    "r = float(input(\"Nhap ban kinh hinh tron: \"))\n",
    "print(\"Chu vi hinh tron la: \", 2*3.14*r)\n",
    "print(\"Dien tich hinh tron la: \", 3.14*r*r)"
   ]
  },
  {
   "cell_type": "code",
   "execution_count": null,
   "id": "d84892f2",
   "metadata": {},
   "outputs": [],
   "source": [
    "#Bai 3\n",
    "a = float(input(\"Nhap so a: \"))\n",
    "b = float(input(\"Nhap so b: \"))\n",
    "c = float(input(\"Nhap so c: \"))\n",
    "if a + b > c and a + c > b and b + c > a:\n",
    "    if a == b == c:\n",
    "        print(\"Day la tam giac deu\")\n",
    "    elif a == b or a == c or b == c:\n",
    "        print(\"Day la tam giac can\")\n",
    "    elif a*a + b*b == c*c or a*a + c*c == b*b or b*b + c*c == a*a:\n",
    "        print(\"Day la tam giac vuong\")\n",
    "    else:\n",
    "        print(\"Day la tam giac thuong\")\n",
    "else:\n",
    "    print(\"Khong phai la 3 canh cua tam giac\")"
   ]
  },
  {
   "cell_type": "code",
   "execution_count": null,
   "id": "aee07871",
   "metadata": {},
   "outputs": [],
   "source": [
    "#Bai 4\n",
    "a = float(input(\"Nhap so a: \"))\n",
    "b = float(input(\"Nhap so b: \"))\n",
    "if a == 0:\n",
    "    if b == 0:\n",
    "        print(\"Phuong trinh vo so nghiem\")\n",
    "    else:\n",
    "        print(\"Phuong trinh vo nghiem\")\n",
    "else:\n",
    "    x = -b/a\n",
    "    print(\"Phuong trinh co nghiem x = \", x)"
   ]
  },
  {
   "cell_type": "code",
   "execution_count": null,
   "id": "ccf14ad6",
   "metadata": {},
   "outputs": [],
   "source": [
    "#Bai 5\n",
    "a = float(input(\"Nhap so a: \"))\n",
    "b = float(input(\"Nhap so b: \"))\n",
    "c = float(input(\"Nhap so c: \"))\n",
    "if a == 0:\n",
    "    if b == 0:\n",
    "        if c == 0:\n",
    "            print(\"Phuong trinh vo so nghiem\")\n",
    "        else:\n",
    "            print(\"Phuong trinh vo nghiem\")\n",
    "    else:\n",
    "        delta = b*b - 4*a*c\n",
    "        if delta < 0:\n",
    "            print(\"Phuong trinh vo nghiem\")\n",
    "        elif delta == 0:\n",
    "            x = -b/(2*a)\n",
    "            print(\"Phuong trinh co nghiem kep x1 = x2 = \", x)\n",
    "        else:\n",
    "            x1 = (-b + delta**0.5)/(2*a)\n",
    "            x2 = (-b - delta**0.5)/(2*a)\n",
    "            print(\"Phuong trinh co 2 nghiem phan biet x1 = \", x1, \" va x2 = \", x2)"
   ]
  },
  {
   "cell_type": "code",
   "execution_count": null,
   "id": "5009e2f8",
   "metadata": {},
   "outputs": [],
   "source": [
    "#Bai 6\n",
    "a = float(input(\"Nhap so a: \"))\n",
    "b = float(input(\"Nhap so b: \"))\n",
    "c = float(input(\"Nhap so c: \"))\n",
    "d = float(input(\"Nhap so d: \"))\n",
    "print(max(a, b, c, d))"
   ]
  },
  {
   "cell_type": "code",
   "execution_count": null,
   "id": "9c28b944",
   "metadata": {},
   "outputs": [],
   "source": [
    "#Bai 7\n",
    "a = float(input(\"Nhap so a: \"))\n",
    "b = float(input(\"Nhap so b: \"))\n",
    "c = float(input(\"Nhap so c: \"))\n",
    "d = float(input(\"Nhap so d: \"))\n",
    "print(min(a, b, c, d))"
   ]
  },
  {
   "cell_type": "code",
   "execution_count": null,
   "id": "2cf60eb0",
   "metadata": {},
   "outputs": [],
   "source": [
    "#Bai 8\n",
    "def matrix_math(x,y,pt):\n",
    "    if pt == '+':\n",
    "        return [x[i]+y[i] for i in range(len(x))]\n",
    "    elif pt == '-':\n",
    "        return [x[i]-y[i] for i in range(len(x))]\n",
    "\n",
    "def matrix_mult(x,c):\n",
    "    return [x[i]*c for i in range(len(x))]\n",
    "\n",
    "abm = list(float(i) for i in input(\"Nhap so a, b, m cach nhau boi dau cach: \").split())\n",
    "\n",
    "cdn = list(float(i) for i in input(\"Nhap so c, d, n cach nhau boi dau cach: \").split())\n",
    "\n",
    "matrix = [abm,cdn]\n",
    "matrix = [matrix_math(matrix_mult(matrix[0],matrix[1][0]), matrix_mult(matrix[1],matrix[0][0]), '-'),[c, d,n]]\n",
    "\n",
    "if matrix[0][1] == 0:\n",
    "    if matrix[0][2] == 0:\n",
    "        print(\"Phuong trinh vo so nghiem\")\n",
    "    elif matrix[0][2] != 0:\n",
    "        print(\"Phuong trinh vo nghiem\")\n",
    "else:\n",
    "    y = matrix[0][2]/matrix[0][1]\n",
    "    x = (matrix[1][2] - matrix[1][1]*y)/matrix[1][0]\n",
    "\n",
    "    print(\"Nghiem cua he phuong trinh la: x = \", x, \" va y = \", y)"
   ]
  },
  {
   "cell_type": "code",
   "execution_count": null,
   "id": "d6fe7db1",
   "metadata": {},
   "outputs": [],
   "source": [
    "#Bai 9\n",
    "second = int(input(\"Nhap so s: \"))\n",
    "hour = second // 3600\n",
    "minute = (second % 3600) // 60\n",
    "second = second % 60\n",
    "print(hour, \" gio \", minute, \" phut \", second, \" giay\")"
   ]
  },
  {
   "cell_type": "code",
   "execution_count": null,
   "id": "54e72b26",
   "metadata": {},
   "outputs": [],
   "source": [
    "#Bai 10\n",
    "Ix = int(input(\"Nhap so Ix: \"))\n",
    "Iy = int(input(\"Nhap so Iy: \"))\n",
    "R = int(input(\"Nhap so R: \"))\n",
    "Ax = int(input(\"Nhap so Ax: \"))\n",
    "Ay = int(input(\"Nhap so Ay: \"))\n",
    "if (Ax - Ix)**2 + (Ay - Iy)**2 < R**2:\n",
    "    print(\"Diem A nam trong duong tron\")\n",
    "else:\n",
    "    print(\"Diem A nam ngoai duong tron\")"
   ]
  },
  {
   "cell_type": "code",
   "execution_count": null,
   "id": "45fc4b02",
   "metadata": {},
   "outputs": [],
   "source": [
    "#Bai 11\n",
    "\n",
    "def powr(x, y):\n",
    "    return x**y\n",
    "\n",
    "x = float(input(\"Nhap so x: \"))\n",
    "y = float(input(\"Nhap so y: \"))\n",
    "\n",
    "#Cach 1\n",
    "print(\"Cach1:x**y=\",x**y)\n",
    "\n",
    "#Cach 2\n",
    "import math\n",
    "print(\"Cach 2:x**y = \", math.pow(x,y))\n",
    "\n",
    "#Cach 3\n",
    "print(\"Cach 3:x**y = \", powr(x,y))"
   ]
  }
 ],
 "metadata": {
  "kernelspec": {
   "display_name": "Python 3",
   "language": "python",
   "name": "python3"
  },
  "language_info": {
   "codemirror_mode": {
    "name": "ipython",
    "version": 3
   },
   "file_extension": ".py",
   "mimetype": "text/x-python",
   "name": "python",
   "nbconvert_exporter": "python",
   "pygments_lexer": "ipython3",
   "version": "3.13.7"
  }
 },
 "nbformat": 4,
 "nbformat_minor": 5
}
